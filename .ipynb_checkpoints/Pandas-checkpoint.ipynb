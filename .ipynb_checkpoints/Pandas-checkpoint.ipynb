{
 "cells": [
  {
   "cell_type": "code",
   "execution_count": 11,
   "id": "c30f977e",
   "metadata": {},
   "outputs": [
    {
     "name": "stdout",
     "output_type": "stream",
     "text": [
      "           Name  Age\n",
      "Eieieie     Alu   32\n",
      "Aqui       Hagk   55\n",
      "Elrich     Baar   20\n",
      "En         CHIN   43\n",
      "Minecraft  Chen   30\n"
     ]
    }
   ],
   "source": [
    "import pandas as pd\n",
    "import numpy as np\n",
    " \n",
    "\n",
    "name_age = {'Name' : ['Alu', 'Hagk', 'Baar', 'CHIN', 'Chen'],\n",
    "'Age' : [32, 55, 20, 43, 30]}\n",
    "data_frame = pd.DataFrame(name_age, index = ['Eieieie', 'Aqui', 'Elrich', 'En', 'Minecraft'])\n",
    "print(data_frame)"
   ]
  },
  {
   "cell_type": "code",
   "execution_count": 10,
   "id": "3e1f3833",
   "metadata": {},
   "outputs": [
    {
     "name": "stdout",
     "output_type": "stream",
     "text": [
      "1        Ali\n",
      "2       Bill\n",
      "3      David\n",
      "4       Hany\n",
      "5    Ibtisam\n",
      "dtype: object\n"
     ]
    }
   ],
   "source": [
    "series = pd.Series(['Ali', 'Bill', 'David', 'Hany', 'Ibtisam'],\n",
    "index = [1, 2, 3, 4, 5])\n",
    "print(series)"
   ]
  },
  {
   "cell_type": "code",
   "execution_count": 42,
   "id": "e0a2c172",
   "metadata": {},
   "outputs": [
    {
     "name": "stdout",
     "output_type": "stream",
     "text": [
      "<bound method NDFrame._add_numeric_operations.<locals>.all of 0       -0.952980\n",
      "1       -0.194086\n",
      "2        1.793449\n",
      "3       -1.044894\n",
      "4       -1.269926\n",
      "           ...   \n",
      "19995   -0.839972\n",
      "19996    0.368887\n",
      "19997   -0.707286\n",
      "19998   -0.086866\n",
      "19999    0.124894\n",
      "Length: 20000, dtype: float64>\n"
     ]
    }
   ],
   "source": [
    "series = pd.Series(np.random.randn(20000))\n",
    "print(series)"
   ]
  },
  {
   "cell_type": "code",
   "execution_count": 392,
   "id": "58530116",
   "metadata": {},
   "outputs": [
    {
     "name": "stdout",
     "output_type": "stream",
     "text": [
      "    A  B\n",
      "a   5  6\n",
      "b   8  1\n",
      "c  10  4\n",
      "d   3  8\n",
      "e   9  7\n",
      "   A   B\n",
      "a  4   9\n",
      "b  3  10\n",
      "c  7  10\n",
      "d  6   1\n",
      "e  1   2\n",
      "    A   B\n",
      "a   9  15\n",
      "b  11  11\n",
      "c  17  14\n",
      "d   9   9\n",
      "e  10   9\n"
     ]
    }
   ],
   "source": [
    "dictionary_1 = {'A' : [5, 8, 10, 3, 9],\n",
    "'B' : [6, 1, 4, 8, 7]}\n",
    "dictionary_2 = {'A' : [4, 3, 7, 6, 1],\n",
    "'B' : [9, 10, 10, 1, 2]}\n",
    "index = ('a','b', 'c', 'd', 'e')\n",
    "data_frame_1 = pd.DataFrame(dictionary_1, index = ['a','b', 'c', 'd', 'e'])\n",
    "data_frame_2 = pd.DataFrame(dictionary_2, index = ['a','b', 'c', 'd', 'e'])\n",
    "data_frame_3 = data_frame_1.add(data_frame_2)\n",
    "print(data_frame_1)\n",
    "print(data_frame_2)\n",
    "print(data_frame_3)"
   ]
  }
 ],
 "metadata": {
  "kernelspec": {
   "display_name": "Python 3 (ipykernel)",
   "language": "python",
   "name": "python3"
  },
  "language_info": {
   "codemirror_mode": {
    "name": "ipython",
    "version": 3
   },
   "file_extension": ".py",
   "mimetype": "text/x-python",
   "name": "python",
   "nbconvert_exporter": "python",
   "pygments_lexer": "ipython3",
   "version": "3.9.7"
  }
 },
 "nbformat": 4,
 "nbformat_minor": 5
}
